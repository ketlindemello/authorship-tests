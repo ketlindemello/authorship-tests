{
 "cells": [
  {
   "cell_type": "code",
   "execution_count": 1,
   "id": "twenty-mexican",
   "metadata": {},
   "outputs": [
    {
     "name": "stdout",
     "output_type": "stream",
     "text": [
      "{'700 lines of documentation': True, 'tests': True, 'examples': True, 'CI': True, '4 community contributors': True, 'bus factor >= 3': True}\n"
     ]
    }
   ],
   "source": [
    "import pylab as plt\n",
    "import sys\n",
    "sys.path.append(\"../\")\n",
    "from scan.load_all import *"
   ]
  },
  {
   "cell_type": "code",
   "execution_count": 2,
   "id": "virgin-mathematics",
   "metadata": {},
   "outputs": [],
   "source": [
    "repos = repolist"
   ]
  },
  {
   "cell_type": "code",
   "execution_count": 3,
   "id": "preliminary-brave",
   "metadata": {},
   "outputs": [
    {
     "data": {
      "text/plain": [
       "Index(['PID', 'url'], dtype='object')"
      ]
     },
     "execution_count": 3,
     "metadata": {},
     "output_type": "execute_result"
    }
   ],
   "source": [
    "repos.columns"
   ]
  },
  {
   "cell_type": "code",
   "execution_count": 4,
   "id": "distant-cleaner",
   "metadata": {},
   "outputs": [],
   "source": [
    "def summary():\n",
    "    keys=['/github', '/gitlab', '/xgitlab', '/bitbucket']\n",
    "    ans = []\n",
    "    for P in repos['PID'].unique():\n",
    "        ans.append([len(repos.loc[(repos['PID'] == P) & repos['url'].str.contains(k)]) for k in keys])\n",
    "    return ans"
   ]
  },
  {
   "cell_type": "code",
   "execution_count": 5,
   "id": "constitutional-message",
   "metadata": {},
   "outputs": [],
   "source": [
    "s0 = summary()"
   ]
  },
  {
   "cell_type": "code",
   "execution_count": 6,
   "id": "expired-queen",
   "metadata": {},
   "outputs": [],
   "source": [
    "v = [(sum(x), x) for x in s0]\n",
    "v.sort()\n",
    "s = [x[1] for x in reversed(v)]"
   ]
  },
  {
   "cell_type": "code",
   "execution_count": 8,
   "id": "animated-optics",
   "metadata": {},
   "outputs": [
    {
     "data": {
      "text/plain": [
       "(array([263,  13,  10,  18]), 304)"
      ]
     },
     "execution_count": 8,
     "metadata": {},
     "output_type": "execute_result"
    }
   ],
   "source": [
    "np.array(s).sum(0), np.array(s).sum()"
   ]
  },
  {
   "cell_type": "code",
   "execution_count": 8,
   "id": "understood-course",
   "metadata": {},
   "outputs": [
    {
     "data": {
      "image/png": "[encoded data removed]",
      "text/plain": [
       "<Figure size 432x288 with 1 Axes>"
      ]
     },
     "metadata": {
      "needs_background": "light"
     },
     "output_type": "display_data"
    }
   ],
   "source": [
    "width = 0.5\n",
    "y = np.array(s).cumsum(axis=1).transpose()\n",
    "p1 = plt.bar(np.arange(len(s)), y[0], width)\n",
    "p2 = plt.bar(np.arange(len(s)), y[1]-y[0], width, bottom=y[0])\n",
    "p3 = plt.bar(np.arange(len(s)), y[2]-y[1], width, bottom=y[1])\n",
    "p4 = plt.bar(np.arange(len(s)), y[3]-y[2], width, bottom=y[2])\n",
    "\n",
    "plt.xlabel('Project')\n",
    "plt.ylabel('Code Repositories')\n",
    "#plt.xticks(ind, ('G1', 'G2', 'G3', 'G4', 'G5'))\n",
    "#plt.yticks(np.arange(0, 81, 10))\n",
    "plt.legend((p1[0], p2[0], p3[0], p4[0]), ('github', 'gitlab', 'xgitlab', 'bitbucket'))\n",
    "\n",
    "plt.show()"
   ]
  },
  {
   "cell_type": "code",
   "execution_count": 9,
   "id": "earned-humor",
   "metadata": {},
   "outputs": [
    {
     "data": {
      "text/plain": [
       "array([[38, 30, 19,  8, 11,  4, 11, 10,  9,  7,  6,  1,  7,  7,  6,  6,\n",
       "         6,  6,  6,  6,  5,  5,  4,  4,  3,  2,  3,  3,  3,  3,  2,  2,\n",
       "         2,  2,  2,  2,  1,  1,  0,  0,  0,  1,  1,  1,  1,  1,  1,  1,\n",
       "         1,  1,  1,  1,  0,  0,  0,  0,  0,  0,  0,  0,  0,  0],\n",
       "       [38, 30, 19,  8, 11, 12, 11, 10,  9,  8,  7,  1,  7,  7,  6,  6,\n",
       "         6,  6,  6,  6,  5,  5,  4,  4,  3,  2,  3,  3,  3,  3,  3,  2,\n",
       "         2,  2,  2,  2,  2,  1,  0,  0,  0,  1,  1,  1,  1,  1,  1,  1,\n",
       "         1,  1,  1,  1,  1,  0,  0,  0,  0,  0,  0,  0,  0,  0],\n",
       "       [38, 30, 19, 14, 12, 12, 11, 11,  9,  8,  7,  1,  7,  7,  6,  6,\n",
       "         6,  6,  6,  6,  5,  5,  4,  4,  3,  4,  3,  3,  3,  3,  3,  2,\n",
       "         2,  2,  2,  2,  2,  1,  0,  0,  0,  1,  1,  1,  1,  1,  1,  1,\n",
       "         1,  1,  1,  1,  1,  0,  0,  0,  0,  0,  0,  0,  0,  0],\n",
       "       [38, 30, 19, 14, 13, 12, 11, 11,  9,  8,  8,  8,  7,  7,  6,  6,\n",
       "         6,  6,  6,  6,  5,  5,  4,  4,  4,  4,  3,  3,  3,  3,  3,  2,\n",
       "         2,  2,  2,  2,  2,  2,  2,  2,  2,  1,  1,  1,  1,  1,  1,  1,\n",
       "         1,  1,  1,  1,  1,  1,  0,  0,  0,  0,  0,  0,  0,  0]])"
      ]
     },
     "execution_count": 9,
     "metadata": {},
     "output_type": "execute_result"
    }
   ],
   "source": [
    "y"
   ]
  },
  {
   "cell_type": "code",
   "execution_count": 11,
   "id": "retired-rescue",
   "metadata": {},
   "outputs": [
    {
     "data": {
      "text/plain": [
       "[(14, 62),\n",
       " (11, 37),\n",
       " (8, 6),\n",
       " (6, 50),\n",
       " (6, 2),\n",
       " (4, 36),\n",
       " (3, 60),\n",
       " (2, 65),\n",
       " (2, 49),\n",
       " (2, 38),\n",
       " (1, 54),\n",
       " (1, 34),\n",
       " (1, 20),\n",
       " (0, 43),\n",
       " (0, 19)]"
      ]
     },
     "execution_count": 11,
     "metadata": {},
     "output_type": "execute_result"
    }
   ],
   "source": [
    "u = repos['PID'].unique()\n",
    "v = [(sum(x), u[i]) for i,x in enumerate(s0)]\n",
    "v.sort()\n",
    "v[-4::-4]"
   ]
  },
  {
   "cell_type": "code",
   "execution_count": null,
   "id": "private-musician",
   "metadata": {},
   "outputs": [],
   "source": []
  }
 ],
 "metadata": {
  "kernelspec": {
   "display_name": "Python 3",
   "language": "python",
   "name": "python3"
  },
  "language_info": {
   "codemirror_mode": {
    "name": "ipython",
    "version": 3
   },
   "file_extension": ".py",
   "mimetype": "text/x-python",
   "name": "python",
   "nbconvert_exporter": "python",
   "pygments_lexer": "ipython3",
   "version": "3.6.9"
  }
 },
 "nbformat": 4,
 "nbformat_minor": 5
}
